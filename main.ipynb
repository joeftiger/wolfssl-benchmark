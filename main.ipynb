{
 "cells": [
  {
   "cell_type": "markdown",
   "source": [
    "# wolfSSL Benchmark"
   ],
   "metadata": {
    "collapsed": false
   },
   "id": "2366bf4bb172bc4f"
  },
  {
   "cell_type": "code",
   "execution_count": 1,
   "outputs": [],
   "source": [
    "import json\n",
    "\n",
    "import matplotlib.pyplot as plt\n",
    "import scipy.stats as stats\n",
    "from scipy.stats import weibull_min\n",
    "\n",
    "from dataset import *"
   ],
   "metadata": {
    "collapsed": false,
    "ExecuteTime": {
     "end_time": "2023-09-08T18:22:26.937675393Z",
     "start_time": "2023-09-08T18:22:24.875107396Z"
    }
   },
   "id": "initial_id"
  },
  {
   "cell_type": "markdown",
   "source": [
    "Some constants and loading datasets:"
   ],
   "metadata": {
    "collapsed": false
   },
   "id": "7631890462b9177b"
  },
  {
   "cell_type": "code",
   "execution_count": 2,
   "outputs": [],
   "source": [
    "CUTOFF_PERCENTILE = 5  # drop values in this percentile"
   ],
   "metadata": {
    "collapsed": false,
    "ExecuteTime": {
     "end_time": "2023-09-08T18:22:26.948631531Z",
     "start_time": "2023-09-08T18:22:26.940468120Z"
    }
   },
   "id": "9a05702fdd2bd66a"
  },
  {
   "cell_type": "code",
   "execution_count": 3,
   "outputs": [],
   "source": [
    "def load(path: str):\n",
    "    with open(path) as f:\n",
    "        data = json.load(f)\n",
    "    return data"
   ],
   "metadata": {
    "collapsed": false,
    "ExecuteTime": {
     "end_time": "2023-09-08T18:22:26.979716912Z",
     "start_time": "2023-09-08T18:22:26.944867740Z"
    }
   },
   "id": "b5ba720f3fed07a2"
  },
  {
   "cell_type": "code",
   "execution_count": 4,
   "outputs": [],
   "source": [
    "client_tls = Dataset(load(\"data/client-benchmarks.json\"))\n",
    "client_tls_ra = Dataset(load(\"data/client-benchmarks-ra.json\"))\n",
    "client_tls_ech = Dataset(load(\"data/client-benchmarks-ech.json\"))\n",
    "client_tls_ech_ra = Dataset(load(\"data/client-benchmarks-ra-ech.json\"))\n",
    "client_no_ech = {\n",
    "    \"TLS\": client_tls,\n",
    "    \"TLS with RA\": client_tls_ra,\n",
    "}\n",
    "server_tls = Dataset(load(\"data/server-benchmarks.json\"), False)\n",
    "server_tls_ra = Dataset(load(\"data/server-benchmarks-ra.json\"), False)\n",
    "server_no_ech = {\n",
    "    \"TLS\": server_tls,\n",
    "    \"TLS with RA\": server_tls_ra,\n",
    "}\n",
    "client_ech = {\n",
    "    \"TLS with ECH\": client_tls_ech,\n",
    "    \"TLS with ECH,RA\": client_tls_ech_ra,\n",
    "}\n",
    "server_ech = {\n",
    "    \"TLS with ECH\": Dataset(load(\"data/server-benchmarks-ech.json\"), False),\n",
    "    \"TLS with RA,ECH\": Dataset(load(\"data/server-benchmarks-ra-ech.json\"), False),\n",
    "}"
   ],
   "metadata": {
    "collapsed": false,
    "ExecuteTime": {
     "end_time": "2023-09-08T18:22:33.417899965Z",
     "start_time": "2023-09-08T18:22:26.963941388Z"
    }
   },
   "id": "21caa3179a6753a5"
  },
  {
   "cell_type": "markdown",
   "source": [
    "Perform 2-tailed truncation on dataset to drop outliers:"
   ],
   "metadata": {
    "collapsed": false
   },
   "id": "afcbb3da8186d60f"
  },
  {
   "cell_type": "code",
   "execution_count": 5,
   "outputs": [],
   "source": [
    "for ds in client_no_ech.values():\n",
    "    ds.truncate(CUTOFF_PERCENTILE)\n",
    "for ds in server_no_ech.values():\n",
    "    ds.truncate(CUTOFF_PERCENTILE)\n",
    "for ds in client_ech.values():\n",
    "    ds.truncate(CUTOFF_PERCENTILE)\n",
    "for ds in server_ech.values():\n",
    "    ds.truncate(CUTOFF_PERCENTILE)"
   ],
   "metadata": {
    "collapsed": false,
    "ExecuteTime": {
     "end_time": "2023-09-08T18:22:33.436787591Z",
     "start_time": "2023-09-08T18:22:33.421670476Z"
    }
   },
   "id": "28e277a7986dc9fe"
  },
  {
   "cell_type": "markdown",
   "source": [
    "Some plot-related functions:"
   ],
   "metadata": {
    "collapsed": false
   },
   "id": "98bb7fe488f77188"
  },
  {
   "cell_type": "code",
   "execution_count": 6,
   "outputs": [],
   "source": [
    "def plot_histogram(dataset: dict[str, Dataset], key: str, title: str = None, time_unit: str = \"ms\", num_bins: int = 100):\n",
    "    total = None\n",
    "    bmin = float('inf')\n",
    "    bmax = float('-inf')\n",
    "    for label, ds in dataset.items():\n",
    "        if key in ds.data:\n",
    "            bmin = min(bmin, ds.data[key][0])\n",
    "            bmax = max(bmax, ds.data[key][-1])\n",
    "\n",
    "    match time_unit:\n",
    "        case \"ms\":\n",
    "            bmin /= 1_000_000\n",
    "            bmax /= 1_000_000\n",
    "        case \"us\":\n",
    "            bmin /= 1_000\n",
    "            bmax /= 1_000\n",
    "    \n",
    "    #bmin -= bmin % num_bins\n",
    "    #bmax += num_bins - (bmax % num_bins)\n",
    "\n",
    "    bstep = (bmax - bmin) / num_bins\n",
    "    bins = np.arange(bmin, bmax, bstep)\n",
    "    if title is None:\n",
    "        title = key_to_string(key)\n",
    "\n",
    "    plt.figure(figsize=(8, 4), layout=\"tight\")\n",
    "    ax = plt.subplot()\n",
    "    for label, ds in dataset.items():\n",
    "        if key in ds.data:\n",
    "            match time_unit:\n",
    "                case \"ms\":\n",
    "                    data = ds.data[key] / 1_000_000\n",
    "                    mean = ds.mean[key] / 1_000_000\n",
    "                case \"us\":\n",
    "                    data = ds.data[key] / 1_000\n",
    "                    mean = ds.mean[key] / 1_000\n",
    "                    time_unit = \"μs\"\n",
    "                case \"ns\":\n",
    "                    data = ds.data[key]\n",
    "                    mean = ds.mean[key]\n",
    "            _, _, p = ax.hist(data, label=f\"{label}\", histtype='step', cumulative=False, bins=bins, linewidth=2)\n",
    "            (r, g, b, _) = p[0].get_facecolor()\n",
    "            ax.axvline(mean, label=f\"mean={mean:.3f} {time_unit}\", color=(r, g, b), linestyle=':', linewidth=2)\n",
    "            \n",
    "            if total is None:\n",
    "                total = len(data)\n",
    "            \n",
    "    plt.legend()\n",
    "    #plt.xticks(list(plt.xticks()[0]))\n",
    "    plt.xlabel(f\"Time ({time_unit})\")\n",
    "    plt.ylabel(f\"Frequency (total={total})\")\n",
    "    plt.grid(visible=True)\n",
    "    plt.title(title)\n",
    "    #plt.xlim(left=bmin - np.fmod(bmin, bstep))\n",
    "    #plt.xlim(right=bmax + bstep - np.fmod(bmin, bstep))\n",
    "    #plt.ylim(0, 5)\n",
    "    plt.savefig(f\"./plots/svg/{title.replace(':', '-')}.svg\", format=\"svg\")\n",
    "    plt.savefig(f\"./plots//png/{title.replace(':', '-')}.png\", format=\"png\")\n",
    "    plt.close()"
   ],
   "metadata": {
    "collapsed": false,
    "ExecuteTime": {
     "end_time": "2023-09-08T18:22:33.456957714Z",
     "start_time": "2023-09-08T18:22:33.444549226Z"
    }
   },
   "id": "3e2256fd45c72ead"
  },
  {
   "cell_type": "code",
   "execution_count": 7,
   "outputs": [],
   "source": [
    "def plot_client_bar(datasets: dict[str, Dataset], title: str, median_or_average: bool = True):\n",
    "    x = datasets.keys()\n",
    "\n",
    "    plt.figure(figsize=(7,20))\n",
    "    \n",
    "    # ClientHello msg\n",
    "    client_hello = np.zeros(len(datasets))\n",
    "    for key in CLIENT_KEYS[0:3]:\n",
    "        if median_or_average:\n",
    "            y = [ds.mean[key] if key in ds.mean else 0 for ds in datasets.values()]\n",
    "        else:\n",
    "            y = [ds.mean[key] if key in ds.mean else 0 for ds in datasets.values()]\n",
    "        # The keys are ordered so we can deduct the ones from before to get an overall time slice\n",
    "        y = np.array(y) - client_hello\n",
    "        \n",
    "        plt.bar(x, y, bottom=client_hello, label=key)\n",
    "        client_hello += y\n",
    "    \n",
    "    # Certificate Verify msg\n",
    "    cert_verify = np.zeros(len(datasets))\n",
    "    for key in CLIENT_KEYS[3:6]:\n",
    "        if median_or_average:\n",
    "            y = [ds.mean[key] if key in ds.mean else 0 for ds in datasets.values()]\n",
    "        else:\n",
    "            y = [ds.mean[key] if key in ds.mean else 0 for ds in datasets.values()]\n",
    "        # The keys are ordered so we can deduct the ones from before to get an overall time slice\n",
    "        y = np.array(y) - cert_verify\n",
    "        \n",
    "        plt.bar(x, y, bottom=client_hello + cert_verify, label=key)\n",
    "        cert_verify += y\n",
    "    \n",
    "    # Handshake overall\n",
    "    if median_or_average:\n",
    "        y = [ds.mean[CLIENT_KEYS[6]] if CLIENT_KEYS[6] in ds.mean else 0 for ds in datasets.values()]\n",
    "    else:\n",
    "        y = [ds.mean[CLIENT_KEYS[6]] if CLIENT_KEYS[6] in ds.mean else 0 for ds in datasets.values()]\n",
    "    # The keys are ordered so we can deduct the ones from before to get an overall time slice\n",
    "    y = np.array(y) - (client_hello + cert_verify)\n",
    "    plt.bar(x, y, bottom=client_hello + cert_verify, label=CLIENT_KEYS[6])\n",
    "\n",
    "    plt.legend()\n",
    "    plt.xlabel(\"Connection Type\")\n",
    "    plt.ylabel(\"mean Time (ns)\" if median_or_average else \"Average Time (ns)\")\n",
    "    plt.title(title)\n",
    "    plt.grid(visible=True)\n",
    "    plt.show()"
   ],
   "metadata": {
    "collapsed": false,
    "ExecuteTime": {
     "end_time": "2023-09-08T18:22:33.470642009Z",
     "start_time": "2023-09-08T18:22:33.453641799Z"
    }
   },
   "id": "5daf9159a1884d6a"
  },
  {
   "cell_type": "markdown",
   "source": [
    "Plot and save histograms to the [`plots/`](plots) folder."
   ],
   "metadata": {
    "collapsed": false
   },
   "id": "306c6297561a61bf"
  },
  {
   "cell_type": "code",
   "execution_count": 8,
   "outputs": [],
   "source": [
    "# Handshake with outliers\n",
    "plot_histogram({\"TLS\": Dataset(load(\"data/client-benchmarks.json\"))}, \"client_handshake\", num_bins=100)"
   ],
   "metadata": {
    "collapsed": false,
    "ExecuteTime": {
     "end_time": "2023-09-08T18:22:34.757221652Z",
     "start_time": "2023-09-08T18:22:33.462713272Z"
    }
   },
   "id": "a1cfdc915d416ec9"
  },
  {
   "cell_type": "code",
   "execution_count": 9,
   "outputs": [],
   "source": [
    "\n",
    "\n",
    "# Handshake\n",
    "plot_histogram(client_no_ech, \"client_handshake\", f\"{key_to_string('client_handshake')} (no ECH)\")\n",
    "plot_histogram(client_ech, \"client_handshake\", f\"{key_to_string('client_handshake')} (with ECH)\")\n",
    "\n",
    "# ClientHello\n",
    "plot_histogram(client_no_ech, \"client_hello\", f\"{key_to_string('client_hello')} (no ECH)\")\n",
    "plot_histogram(client_ech, \"client_hello\", f\"{key_to_string('client_hello')} (with ECH)\")\n",
    "\n",
    "# ClientHello Extensions\n",
    "plot_histogram(client_no_ech, \"client_extensions\", f\"{key_to_string('client_extensions')} (no ECH)\")\n",
    "plot_histogram(client_ech, \"client_extensions\", f\"{key_to_string('client_extensions')} (with ECH)\")\n",
    "\n",
    "# Client Certificate Verify\n",
    "plot_histogram(client_no_ech, \"client_certificate_verify\", time_unit=\"us\")\n",
    "\n",
    "# Client Certificate Verify: AttReq\n",
    "plot_histogram(client_no_ech, \"client_certificate_verify_att_request\", time_unit=\"us\")\n",
    "\n",
    "# Client Certificate Verify: AttReq Challenge Generation\n",
    "plot_histogram(client_no_ech, \"client_certificate_verify_att_request_challenge_generation\", time_unit=\"us\")\n",
    "\n",
    "# AttReq Encoding (will be useless because clock not accurate enough at these fast operations)\n",
    "plot_histogram(client_no_ech, \"client_att_request\", time_unit=\"ns\")"
   ],
   "metadata": {
    "collapsed": false,
    "ExecuteTime": {
     "end_time": "2023-09-08T18:22:39.250403644Z",
     "start_time": "2023-09-08T18:22:34.775245316Z"
    }
   },
   "id": "2f4ff8a01ed55aad"
  },
  {
   "cell_type": "code",
   "execution_count": 10,
   "outputs": [],
   "source": [
    "# Handshake\n",
    "plot_histogram(server_no_ech, \"server_handshake\", f\"{key_to_string('server_handshake')} (no ECH)\")\n",
    "plot_histogram(server_ech, \"server_handshake\", f\"{key_to_string('server_handshake')} (with ECH)\")\n",
    "\n",
    "# ServerHello\n",
    "plot_histogram(server_no_ech, \"server_hello\", f\"{key_to_string('server_hello')} (no ECH)\", time_unit=\"us\")\n",
    "plot_histogram(server_ech, \"server_hello\", f\"{key_to_string('server_hello')} (with ECH)\", time_unit=\"us\")\n",
    "\n",
    "# Server EncryptedExtensions\n",
    "plot_histogram(server_no_ech, \"server_extensions\", f\"{key_to_string('server_extensions')} (no ECH)\", time_unit=\"us\")\n",
    "plot_histogram(server_ech, \"server_extensions\", f\"{key_to_string('server_extensions')} (with ECH)\", time_unit=\"us\")\n",
    "\n",
    "# Server: AttReq Generation \n",
    "plot_histogram(server_no_ech, \"server_att_request_generation\", time_unit=\"us\")\n",
    "\n",
    "# Server: AttReq Challenge Generation\n",
    "plot_histogram(server_no_ech, \"server_att_request_challenge_generation\", time_unit=\"us\")"
   ],
   "metadata": {
    "collapsed": false,
    "ExecuteTime": {
     "end_time": "2023-09-08T18:22:42.703109942Z",
     "start_time": "2023-09-08T18:22:39.265084732Z"
    }
   },
   "id": "26aa50d6ad9d402"
  },
  {
   "cell_type": "code",
   "execution_count": 11,
   "outputs": [],
   "source": [
    "#plot_client_bar(client_no_ech, \"\", True)\n",
    "#plot_client_bar(client_ech, \"\", False)"
   ],
   "metadata": {
    "collapsed": false,
    "ExecuteTime": {
     "end_time": "2023-09-08T18:22:42.715002374Z",
     "start_time": "2023-09-08T18:22:42.705713958Z"
    }
   },
   "id": "c7b39dd548875c36"
  },
  {
   "cell_type": "code",
   "execution_count": 12,
   "outputs": [],
   "source": [
    "# for key in dataset.CLIENT_KEYS:\n",
    "#     plot_histogram(client_ech, key, f\"{key} - with ECH\")\n",
    "# for key in dataset.SERVER_KEYS:\n",
    "#     plot_histogram(server_ech, key, f\"{key} - with ECH\")"
   ],
   "metadata": {
    "collapsed": false,
    "ExecuteTime": {
     "end_time": "2023-09-08T18:22:42.730556224Z",
     "start_time": "2023-09-08T18:22:42.707886227Z"
    }
   },
   "id": "b23024e5dd899eef"
  },
  {
   "cell_type": "markdown",
   "source": [
    "The time differences between the overall handshake of TLS and TLS-with-RA should match the time differences of the single handshake events involving RA operations.\n",
    "As we use the mean from the overall distribution, slight errors are to be expected."
   ],
   "metadata": {
    "collapsed": false
   },
   "id": "a86299d36e6a1057"
  },
  {
   "cell_type": "code",
   "execution_count": 13,
   "outputs": [
    {
     "name": "stdout",
     "output_type": "stream",
     "text": [
      "Δ Handshake (ns):                  14729\n",
      "Δ ClientExtensions (ns):           -381\n",
      "Δ Certificate Verify (ns):         5237.190\n",
      "Δ EncryptedExtensions (ns):        7687.885\n",
      "Δ Sum (ns):                        12544.022\n",
      "Δ Handshake to RA-operations (ns): 2184.592\n"
     ]
    }
   ],
   "source": [
    "hs_diff = client_tls_ra.mean[\"client_handshake\"] - client_tls.mean[\"client_handshake\"]\n",
    "print(f\"Δ Handshake (ns):                  {hs_diff:.0f}\")\n",
    "\n",
    "ce_diff = client_tls_ra.mean[\"client_extensions\"] - client_tls.mean[\"client_extensions\"]\n",
    "print(f\"Δ ClientExtensions (ns):           {ce_diff:.0f}\")\n",
    "cv_diff = client_tls_ra.mean[\"client_certificate_verify\"] - client_tls.mean[\"client_certificate_verify\"]\n",
    "print(f\"Δ Certificate Verify (ns):         {cv_diff:.3f}\")\n",
    "se_diff = server_tls_ra.mean[\"server_extensions\"] - server_tls.mean[\"server_extensions\"]\n",
    "print(f\"Δ EncryptedExtensions (ns):        {se_diff:.3f}\")\n",
    "\n",
    "sum = ce_diff + cv_diff + se_diff\n",
    "print(f\"Δ Sum (ns):                        {sum:.3f}\")\n",
    "\n",
    "diff = hs_diff - sum\n",
    "print(f\"Δ Handshake to RA-operations (ns): {diff:.3f}\")"
   ],
   "metadata": {
    "collapsed": false,
    "ExecuteTime": {
     "end_time": "2023-09-08T18:22:42.744731916Z",
     "start_time": "2023-09-08T18:22:42.727988369Z"
    }
   },
   "id": "1ddcb6905ef147b7"
  },
  {
   "cell_type": "markdown",
   "source": [
    "## Some statistics\n",
    "Let $\\mu_1, \\mu_2$ be the two means of the two distributions, e.g., TLS and TLS-with-RA handshakes.\n",
    "We test the 0-hypothesis that the two means are equal:\n",
    "\n",
    "    $$H_0: \\quad \\mu_1 = \\mu_2$$\n",
    "    $$H_1: \\quad \\mu_1 \\neq \\mu_2$$\n",
    "\n",
    "If the $p$-value of the test is lower than a significance level of $\\alpha = 0.05$ (5%) we reject $H_0$:"
   ],
   "metadata": {
    "collapsed": false
   },
   "id": "f4f942f4facc2c43"
  },
  {
   "cell_type": "code",
   "execution_count": 14,
   "outputs": [],
   "source": [
    "def test_hypothesis_equal_mean(a, b, alpha=0.05):\n",
    "    h0 = stats.ttest_ind(a=a, b=b, alternative=\"less\", permutations=1000, equal_var=False)\n",
    "    print(f\"p-value: {h0.pvalue}\")\n",
    "    if h0.pvalue < alpha:\n",
    "        print(\"We reject H₀ that µ₁ = µ₂\")\n",
    "    else:\n",
    "        print(\"Failed to reject H₀ that µ₁ = µ₂\")"
   ],
   "metadata": {
    "collapsed": false,
    "ExecuteTime": {
     "end_time": "2023-09-08T18:22:42.796698440Z",
     "start_time": "2023-09-08T18:22:42.744227049Z"
    }
   },
   "id": "3d2a1bfe41fb62c"
  },
  {
   "cell_type": "code",
   "execution_count": 15,
   "outputs": [],
   "source": [
    "def confidence_interval(data, alpha):\n",
    "    a, b = stats.t.interval(confidence=1-alpha, loc=np.mean(data), df=len(data)-1, scale=stats.sem(data))\n",
    "    print(f\" - ({a}, {b}) ns\")\n",
    "    ci = np.array([a, b])\n",
    "    mid = ci.mean()\n",
    "    delta = (ci[1]-ci[0])/2\n",
    "    return mid, delta"
   ],
   "metadata": {
    "collapsed": false,
    "ExecuteTime": {
     "end_time": "2023-09-08T18:22:42.796976583Z",
     "start_time": "2023-09-08T18:22:42.787193121Z"
    }
   },
   "id": "6aa4aaf5d57728f8"
  },
  {
   "cell_type": "code",
   "execution_count": 16,
   "outputs": [
    {
     "name": "stdout",
     "output_type": "stream",
     "text": [
      ">> Testing H₀ for the handshake of TLS and TLS-with-RA:\n",
      "p-value: 0.000999000999000999\n",
      "We reject H₀ that µ₁ = µ₂\n",
      " - (5138142.32243908, 5140426.367771447) ns\n",
      "TLS mean:          5139284.345105263  +/-  1142.0226661833003  ns\n",
      " - (5152875.058131397, 5155150.859510709) ns\n",
      "TLS-with-Ra mean:  5154012.958821053  +/-  1137.900689655915  ns\n",
      "Delta mu =  14728.61371578928  +/-  1612.1519002860186\n",
      "\n",
      ">> Testing H₀ for the handshake of TLS-with-ECH and TLS-with-ECH-RA:\n",
      "p-value: 0.000999000999000999\n",
      "We reject H₀ that µ₁ = µ₂\n",
      " - (5331209.506974604, 5333213.329951711) ns\n",
      "TLS-with-ECH mean:     5332211.4184631575  +/-  1001.9114885535091  ns\n",
      " - (5346530.862880179, 5348598.783225085) ns\n",
      "TLS-with-ECH,RA mean:  5347564.823052632  +/-  1033.960172452964  ns\n",
      "Delta mu =  15353.404589474201  +/-  1439.7570173867782\n"
     ]
    }
   ],
   "source": [
    "ALPHA = 0.01\n",
    "\n",
    "tls = client_tls.data[\"client_handshake\"]\n",
    "tls_ra = client_tls_ra.data[\"client_handshake\"]\n",
    "\n",
    "print(\">> Testing H₀ for the handshake of TLS and TLS-with-RA:\")\n",
    "test_hypothesis_equal_mean(tls, tls_ra, ALPHA)\n",
    "mean, pm = confidence_interval(tls, ALPHA)\n",
    "print(\"TLS mean:         \", mean, \" +/- \", pm, \" ns\")\n",
    "mean_ra, pm_ra = confidence_interval(tls_ra, ALPHA)\n",
    "print(\"TLS-with-Ra mean: \", mean_ra, \" +/- \", pm_ra, \" ns\")\n",
    "sigma = np.sqrt(pm**2 + pm_ra**2)\n",
    "print(\"Delta mu = \", (mean_ra - mean), \" +/- \", sigma)\n",
    "\n",
    "ech = client_tls_ech.data['client_handshake']\n",
    "ech_ra = client_tls_ech_ra.data['client_handshake']\n",
    "print(\"\\n>> Testing H₀ for the handshake of TLS-with-ECH and TLS-with-ECH-RA:\")\n",
    "test_hypothesis_equal_mean(ech, ech_ra, ALPHA)\n",
    "mean_ech, pm_ech = confidence_interval(ech, ALPHA)\n",
    "print(\"TLS-with-ECH mean:    \", mean_ech, \" +/- \", pm_ech, \" ns\")\n",
    "mean_ech_ra, pm_ech_ra = confidence_interval(ech_ra, ALPHA)\n",
    "print(\"TLS-with-ECH,RA mean: \", mean_ech_ra, \" +/- \", pm_ech_ra, \" ns\")\n",
    "sigma_ech = np.sqrt(pm_ech**2 + pm_ech_ra**2)\n",
    "print(\"Delta mu = \", (mean_ech_ra - mean_ech), \" +/- \", sigma_ech)"
   ],
   "metadata": {
    "collapsed": false,
    "ExecuteTime": {
     "end_time": "2023-09-08T18:22:53.942458435Z",
     "start_time": "2023-09-08T18:22:42.787426234Z"
    }
   },
   "id": "b06f0321340ceec5"
  },
  {
   "cell_type": "code",
   "execution_count": 17,
   "outputs": [],
   "source": [
    "def to_csv(filename, ds, keys):\n",
    "    with open(filename, \"w+\") as f:\n",
    "        f.write(\"Operation,Mean time taken (ms)\\n\")\n",
    "        for key in keys:\n",
    "            if key in ds:\n",
    "                val = ds[key] / 1_000_000\n",
    "                f.write(f\"{key_to_string(key)},{val:.3f}\\n\")"
   ],
   "metadata": {
    "collapsed": false,
    "ExecuteTime": {
     "end_time": "2023-09-08T18:22:53.988894664Z",
     "start_time": "2023-09-08T18:22:53.945216792Z"
    }
   },
   "id": "5286486b5dfef9e4"
  },
  {
   "cell_type": "code",
   "execution_count": 18,
   "outputs": [],
   "source": [
    "# Client\n",
    "to_csv(\"csvs/client/tls.csv\", client_tls.mean, CLIENT_KEYS)\n",
    "to_csv(\"csvs/client/tls-ra.csv\", client_tls_ra.mean, CLIENT_KEYS)\n",
    "to_csv(\"csvs/client/tls-ech.csv\", client_tls_ech.mean, CLIENT_KEYS)\n",
    "to_csv(\"csvs/client/tls-ech-ra.csv\", client_tls_ech_ra.mean, CLIENT_KEYS)\n",
    "\n",
    "# Server\n",
    "to_csv(\"csvs/server/tls.csv\", server_tls.mean, SERVER_KEYS)\n",
    "to_csv(\"csvs/server/tls-ra.csv\", server_tls_ra.mean, SERVER_KEYS)"
   ],
   "metadata": {
    "collapsed": false,
    "ExecuteTime": {
     "end_time": "2023-09-08T18:22:53.989153717Z",
     "start_time": "2023-09-08T18:22:53.987121570Z"
    }
   },
   "id": "1726b85d246f78b"
  },
  {
   "cell_type": "code",
   "execution_count": 18,
   "outputs": [],
   "source": [],
   "metadata": {
    "collapsed": false,
    "ExecuteTime": {
     "end_time": "2023-09-08T18:22:53.989318689Z",
     "start_time": "2023-09-08T18:22:53.987289302Z"
    }
   },
   "id": "c1a1c80daa23fb1c"
  }
 ],
 "metadata": {
  "kernelspec": {
   "display_name": "Python 3",
   "language": "python",
   "name": "python3"
  },
  "language_info": {
   "codemirror_mode": {
    "name": "ipython",
    "version": 2
   },
   "file_extension": ".py",
   "mimetype": "text/x-python",
   "name": "python",
   "nbconvert_exporter": "python",
   "pygments_lexer": "ipython2",
   "version": "2.7.6"
  }
 },
 "nbformat": 4,
 "nbformat_minor": 5
}
